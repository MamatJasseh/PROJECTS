{
 "cells": [
  {
   "cell_type": "markdown",
   "metadata": {
    "id": "JJS5CicsNO4f"
   },
   "source": [
    "# BAN200 Week 03 Homework"
   ]
  },
  {
   "cell_type": "markdown",
   "metadata": {
    "id": "8RGHCJev8rz_"
   },
   "source": [
    "To complete the homework you will need to modify this template by adding Python code and/or text.\n",
    "\n",
    "Before starting the homework, make sure to save a copy of this template to your personal Google Drive. If you haven't saved your own copy, any changes you make will be lost when you close your browser window.\n",
    "\n",
    "To submit your homework: go to \"File\" in the Colab menu bar > select \"Download\" > select \"Download .ipynb\". This will download a \".ipynb\" file to your computer. You must submit this file.\n",
    "\n",
    "The homework is to be completed in groups. It is due at the start of next class.\n",
    "\n",
    "Homework is graded on the following scale:\n",
    "\n",
    "* *100%* -- The assignment was submitted on time, any code runs without errors, and every question is answered correctly.\n",
    "\n",
    "* *80%* -- The assignment was submitted on time, any code runs without errors, and every question is answered. Some questions may be incorrect, but the submission demonstrates an average level of effort and average level of understanding of the material.\n",
    "\n",
    "* *60%* -- The submission demonstrates a below-average level of effort and below-average level of understanding of the material. This is the highest grade that should be given to submissions that are submitted late, have code that throws uncaught errors, or leave some questions unanswered.\n",
    "\n",
    "* *0%* -- No assignment was submitted, or the submission demonstrates little-to-no effort and little-to-no understanding of the material."
   ]
  },
  {
   "cell_type": "markdown",
   "metadata": {
    "id": "7cLSEIe1P4sQ"
   },
   "source": [
    "# Question 1 (same as Question 1 in Week 02 Homework)"
   ]
  },
  {
   "cell_type": "markdown",
   "metadata": {
    "id": "GHMa-y94P7bX"
   },
   "source": [
    "Create a function that takes a string and returns a list of word tokens, ignoring any non-alphanumeric characters. You should use `re.findall` in your function. Test your function with the string \"Hello there, how are you?\" and store the tokens in a variable `tokens`."
   ]
  },
  {
   "cell_type": "code",
   "execution_count": null,
   "metadata": {
    "id": "coKpQMIzQbbh"
   },
   "outputs": [],
   "source": [
    "# put your answer here"
   ]
  },
  {
   "cell_type": "markdown",
   "metadata": {
    "id": "hrClEuIIQ9lM"
   },
   "source": [
    "# Question 2 (same as Question 2 in Week 02 Homework)"
   ]
  },
  {
   "cell_type": "markdown",
   "metadata": {
    "id": "YCs9gA1dQ-4J"
   },
   "source": [
    "Create a function that takes a list of tokens and makes them lowercase. Tip: you did this already in the Week 1 Homework. Test it with your `tokens` variable."
   ]
  },
  {
   "cell_type": "code",
   "execution_count": null,
   "metadata": {
    "id": "9NKV80PwRGvj"
   },
   "outputs": [],
   "source": [
    "# put your answer here"
   ]
  },
  {
   "cell_type": "markdown",
   "metadata": {
    "id": "iu0A5GzWYSKa"
   },
   "source": [
    "# SMS SPAM Collection"
   ]
  },
  {
   "cell_type": "markdown",
   "metadata": {
    "id": "aYD73eRqblOY"
   },
   "source": [
    "The SMS SPAM Collection is a corpus of real text messages (SMS messages) that have been classified as either SPAM or HAM (i.e. not SPAM). The corpus contains 5,574 documents, 747 of which are SPAM and 4,827 of which are HAM. You can find the readme for the corpus [here](https://storage.googleapis.com/wd13/SMSSpamCollectionReadme)."
   ]
  },
  {
   "cell_type": "markdown",
   "metadata": {
    "id": "RkwZzYJrf4Mi"
   },
   "source": [
    "The following code downloads a copy of the SMS SPAM Corpus and saves it in a variable `sms_corpus`."
   ]
  },
  {
   "cell_type": "code",
   "execution_count": null,
   "metadata": {
    "id": "JVwy5gnFYSVv"
   },
   "outputs": [],
   "source": [
    "import urllib.request, json\n",
    "sms_corpus = []\n",
    "with urllib.request.urlopen(\"https://storage.googleapis.com/wd13/SMSSpamCollection.txt\") as url:\n",
    "  for line in url.readlines():\n",
    "    sms_corpus.append(line.decode().split('\\t'))"
   ]
  },
  {
   "cell_type": "markdown",
   "metadata": {
    "id": "ejA8KxjOgO1N"
   },
   "source": [
    "`sms_corpus` is a list. Each element of the list is another list which stores a document and its label."
   ]
  },
  {
   "cell_type": "code",
   "execution_count": null,
   "metadata": {
    "colab": {
     "base_uri": "https://localhost:8080/"
    },
    "executionInfo": {
     "elapsed": 7,
     "status": "ok",
     "timestamp": 1693430040590,
     "user": {
      "displayName": "Will Dick",
      "userId": "09439979286280420660"
     },
     "user_tz": 240
    },
    "id": "xppAWdKJgRD3",
    "outputId": "1890524a-aa9d-4e35-e22e-09bf84bce7a8"
   },
   "outputs": [
    {
     "name": "stdout",
     "output_type": "stream",
     "text": [
      "['ham', \"Oh k...i'm watching here:)\\n\"]\n"
     ]
    }
   ],
   "source": [
    "# print the text and label of document 16\n",
    "docid = 16\n",
    "print(sms_corpus[docid])"
   ]
  },
  {
   "cell_type": "code",
   "execution_count": null,
   "metadata": {
    "colab": {
     "base_uri": "https://localhost:8080/"
    },
    "executionInfo": {
     "elapsed": 7,
     "status": "ok",
     "timestamp": 1693430040591,
     "user": {
      "displayName": "Will Dick",
      "userId": "09439979286280420660"
     },
     "user_tz": 240
    },
    "id": "ujCCOXJFmp6o",
    "outputId": "0bfa79a1-ea9e-49fd-c40d-d837604fd17e"
   },
   "outputs": [
    {
     "name": "stdout",
     "output_type": "stream",
     "text": [
      "ham\n"
     ]
    }
   ],
   "source": [
    "# print the label of document 16\n",
    "docid = 16\n",
    "print(sms_corpus[docid][0])"
   ]
  },
  {
   "cell_type": "code",
   "execution_count": null,
   "metadata": {
    "colab": {
     "base_uri": "https://localhost:8080/"
    },
    "executionInfo": {
     "elapsed": 5,
     "status": "ok",
     "timestamp": 1693430040591,
     "user": {
      "displayName": "Will Dick",
      "userId": "09439979286280420660"
     },
     "user_tz": 240
    },
    "id": "heI9vtSzmqHT",
    "outputId": "f79188d4-ce50-444f-eb72-9730bb6347a8"
   },
   "outputs": [
    {
     "name": "stdout",
     "output_type": "stream",
     "text": [
      "Oh k...i'm watching here:)\n",
      "\n"
     ]
    }
   ],
   "source": [
    "# print the text of document 16\n",
    "docid = 16\n",
    "print(sms_corpus[docid][1])"
   ]
  },
  {
   "cell_type": "markdown",
   "metadata": {
    "id": "Ae97qvZtSwv5"
   },
   "source": [
    "# Question 3"
   ]
  },
  {
   "cell_type": "markdown",
   "metadata": {
    "id": "UmNnWcnrUYE4"
   },
   "source": [
    "Create a variable `corpus_spam_count` that contains the number of spam documents in the corpus."
   ]
  },
  {
   "cell_type": "code",
   "execution_count": null,
   "metadata": {
    "id": "O6zDMaPqUfRj"
   },
   "outputs": [],
   "source": [
    "# put your answer here"
   ]
  },
  {
   "cell_type": "markdown",
   "metadata": {
    "id": "mLtHn5QHUnx6"
   },
   "source": [
    "# Question 4"
   ]
  },
  {
   "cell_type": "markdown",
   "metadata": {
    "id": "UsCsrAo_Unx7"
   },
   "source": [
    "Create a variable `corpus_ham_count` that contains the number of ham documents in the corpus."
   ]
  },
  {
   "cell_type": "code",
   "execution_count": null,
   "metadata": {
    "id": "gyP7R28iUnx8"
   },
   "outputs": [],
   "source": [
    "# put your answer here"
   ]
  },
  {
   "cell_type": "markdown",
   "metadata": {
    "id": "QW2E6ubbUvl5"
   },
   "source": [
    "# Question 5"
   ]
  },
  {
   "cell_type": "markdown",
   "metadata": {
    "id": "_tQgdQPYUwkW"
   },
   "source": [
    "Create a Python dictionary called `token_spam_count` that contains a \"key\" for every token in the corpus (after standardizing using lowercase) and a value equal to the number of times that token appeared in spam documents."
   ]
  },
  {
   "cell_type": "code",
   "execution_count": null,
   "metadata": {
    "id": "98aGU1DEVWCD"
   },
   "outputs": [],
   "source": [
    "# put your answer here"
   ]
  },
  {
   "cell_type": "markdown",
   "metadata": {
    "id": "xShnTfrDV9En"
   },
   "source": [
    "# Question 6"
   ]
  },
  {
   "cell_type": "markdown",
   "metadata": {
    "id": "B9Cj67_YV9Ep"
   },
   "source": [
    "Create a Python dictionary called `token_ham_count` that contains a \"key\" for every token in the corpus (after standardizing using lowercase) and a value equal to the number of times that token appeared in ham documents."
   ]
  },
  {
   "cell_type": "code",
   "execution_count": null,
   "metadata": {
    "id": "QMznRxvKV9Eq"
   },
   "outputs": [],
   "source": [
    "# put your answer here"
   ]
  },
  {
   "cell_type": "markdown",
   "metadata": {
    "id": "gUbHX0kgWG_Z"
   },
   "source": [
    "# Question 7"
   ]
  },
  {
   "cell_type": "markdown",
   "metadata": {
    "id": "whWvHr4JWIrt"
   },
   "source": [
    "Calculate the score for the message \"act now for a free tv\"."
   ]
  },
  {
   "cell_type": "code",
   "execution_count": null,
   "metadata": {
    "id": "cHqXlNQBWRY6"
   },
   "outputs": [],
   "source": [
    "# put your answer here"
   ]
  },
  {
   "cell_type": "markdown",
   "metadata": {
    "id": "5mtFaQd2XSN7"
   },
   "source": [
    "# Question 8"
   ]
  },
  {
   "cell_type": "markdown",
   "metadata": {
    "id": "kLfkzqz5XSOA"
   },
   "source": [
    "Create a function that takes a string as a parameter and returns a SPAM score. Test your function with the string \"act now for a free tv\"."
   ]
  },
  {
   "cell_type": "code",
   "execution_count": null,
   "metadata": {
    "id": "8xoWp_1mXSOA"
   },
   "outputs": [],
   "source": [
    "# put your answer here"
   ]
  },
  {
   "cell_type": "markdown",
   "metadata": {
    "id": "AdjBVM2XX8pq"
   },
   "source": [
    "# Question 9"
   ]
  },
  {
   "cell_type": "markdown",
   "metadata": {
    "id": "rzlChXosX-L4"
   },
   "source": [
    "Discuss the pros and cons of this model."
   ]
  },
  {
   "cell_type": "markdown",
   "metadata": {
    "id": "DosVCO69YAXG"
   },
   "source": [
    "*put your answer here*"
   ]
  }
 ],
 "metadata": {
  "colab": {
   "authorship_tag": "ABX9TyPQaGpFH2zvQ7RQeB2/xyvn",
   "provenance": []
  },
  "kernelspec": {
   "display_name": "Python 3 (ipykernel)",
   "language": "python",
   "name": "python3"
  },
  "language_info": {
   "codemirror_mode": {
    "name": "ipython",
    "version": 3
   },
   "file_extension": ".py",
   "mimetype": "text/x-python",
   "name": "python",
   "nbconvert_exporter": "python",
   "pygments_lexer": "ipython3",
   "version": "3.9.12"
  }
 },
 "nbformat": 4,
 "nbformat_minor": 1
}
