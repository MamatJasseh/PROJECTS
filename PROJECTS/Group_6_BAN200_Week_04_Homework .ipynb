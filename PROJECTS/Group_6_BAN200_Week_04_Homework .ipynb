{
  "cells": [
    {
      "cell_type": "markdown",
      "metadata": {
        "id": "WstUJNksE6Y0"
      },
      "source": [
        "# BAN200 Week 04 Homework"
      ]
    },
    {
      "cell_type": "markdown",
      "metadata": {
        "id": "ltACN10fE91-"
      },
      "source": [
        "To complete the homework you will need to modify this template by adding Python code and/or text.\n",
        "\n",
        "Before starting the homework, make sure to save a copy of this template to your personal Google Drive. If you haven't saved your own copy, any changes you make will be lost when you close your browser window.\n",
        "\n",
        "To submit your homework: go to \"File\" in the Colab menu bar > select \"Download\" > select \"Download .ipynb\". This will download a \".ipynb\" file to your computer. You must submit this file.\n",
        "\n",
        "The homework is to be completed in groups. It is due at the start of next class.\n",
        "\n",
        "Homework is graded on the following scale:\n",
        "\n",
        "* *100%* -- The assignment was submitted on time, any code runs without errors, and every question is answered correctly.\n",
        "\n",
        "* *80%* -- The assignment was submitted on time, any code runs without errors, and every question is answered. Some questions may be incorrect, but the submission demonstrates an average level of effort and average level of understanding of the material.\n",
        "\n",
        "* *60%* -- The submission demonstrates a below-average level of effort and below-average level of understanding of the material. This is the highest grade that should be given to submissions that are submitted late, have code that throws uncaught errors, or leave some questions unanswered.\n",
        "\n",
        "* *0%* -- No assignment was submitted, or the submission demonstrates little-to-no effort and little-to-no understanding of the material."
      ]
    },
    {
      "cell_type": "markdown",
      "metadata": {
        "id": "iW27iTilFCPx"
      },
      "source": [
        "# Lexicon"
      ]
    },
    {
      "cell_type": "markdown",
      "metadata": {
        "id": "7Eh68n4rFHwT"
      },
      "source": [
        "The code below downloads a lexicon and saves it in a Python dictionary called `lexicon`."
      ]
    },
    {
      "cell_type": "code",
      "execution_count": null,
      "metadata": {
        "id": "XwoQOYOT9lhr"
      },
      "outputs": [],
      "source": [
        "import urllib.request, json\n",
        "with urllib.request.urlopen(\"https://storage.googleapis.com/wd13/lexicon.txt\") as url:\n",
        "  lexicon_file = url.read().decode()\n",
        "lexicon = {}\n",
        "for line in lexicon_file.split('\\n'):\n",
        "  split_line = line.split('\\t')\n",
        "  token = split_line[0]\n",
        "  score = float(split_line[1])\n",
        "  lexicon[token] = score"
      ]
    },
    {
      "cell_type": "markdown",
      "metadata": {
        "id": "8P0hWnG3FQOa"
      },
      "source": [
        "The `lexicon` dictionary contains entries for approximately 7500 tokens that have either positive or negative sentiment. Each token is a key and the value is the sentiment score. Positive scores imply positive sentiment, negative scores imply negative sentiment. The further from zero the score, the more extreme the sentiment."
      ]
    },
    {
      "cell_type": "markdown",
      "metadata": {
        "id": "q1JaGayEFuPB"
      },
      "source": [
        "\"good\" has a score of 1.9."
      ]
    },
    {
      "cell_type": "code",
      "execution_count": null,
      "metadata": {
        "colab": {
          "base_uri": "https://localhost:8080/"
        },
        "id": "Xj0ErdW2FVxS",
        "outputId": "c51d8aef-eba0-4b08-d92a-69e596b2187a"
      },
      "outputs": [
        {
          "output_type": "execute_result",
          "data": {
            "text/plain": [
              "1.9"
            ]
          },
          "metadata": {},
          "execution_count": 3
        }
      ],
      "source": [
        "lexicon['good']"
      ]
    },
    {
      "cell_type": "markdown",
      "metadata": {
        "id": "JmRNwK-DFxEH"
      },
      "source": [
        "\"great\" has a score of 3.1."
      ]
    },
    {
      "cell_type": "code",
      "execution_count": null,
      "metadata": {
        "colab": {
          "base_uri": "https://localhost:8080/"
        },
        "id": "z9DTk25MFxLt",
        "outputId": "297c2ae9-8f60-447f-ac01-7d6403945781"
      },
      "outputs": [
        {
          "output_type": "execute_result",
          "data": {
            "text/plain": [
              "3.1"
            ]
          },
          "metadata": {},
          "execution_count": 4
        }
      ],
      "source": [
        "lexicon['great']"
      ]
    },
    {
      "cell_type": "markdown",
      "metadata": {
        "id": "u7FiQzUkFxbB"
      },
      "source": [
        "\"bad\" has a score of -2.5."
      ]
    },
    {
      "cell_type": "code",
      "execution_count": null,
      "metadata": {
        "colab": {
          "base_uri": "https://localhost:8080/"
        },
        "id": "JslS0clsFxhI",
        "outputId": "cb504c9c-f4d5-4a04-cf24-ce992e1ab352"
      },
      "outputs": [
        {
          "output_type": "execute_result",
          "data": {
            "text/plain": [
              "-2.5"
            ]
          },
          "metadata": {},
          "execution_count": 5
        }
      ],
      "source": [
        "lexicon['bad']"
      ]
    },
    {
      "cell_type": "markdown",
      "metadata": {
        "id": "MR7459dfGE_-"
      },
      "source": [
        "# Question 1"
      ]
    },
    {
      "cell_type": "markdown",
      "metadata": {
        "id": "viCVVLymGGuB"
      },
      "source": [
        "Describe in a sentence or two how you could build your own lexicon using Naive Bayes."
      ]
    },
    {
      "cell_type": "markdown",
      "metadata": {
        "id": "TeqaoioLSFl6"
      },
      "source": [
        "\n",
        "creating lexicon with Naive Bayes by gathering a corpus of text data, preprocessing it to extract pertinent features (like word frequencies), labelling the data with relevant categories (like positive/negative sentiment), training a Naive Bayes classifier on the labelled data to discover relationships between features and categories, and using the trained classifier to apply categories to newly collected text data."
      ]
    },
    {
      "cell_type": "markdown",
      "metadata": {
        "id": "DHjTB4TYMlzP"
      },
      "source": [
        "# Question 2"
      ]
    },
    {
      "cell_type": "markdown",
      "metadata": {
        "id": "eWotz3a_MoP8"
      },
      "source": [
        "Write a function that takes a string and returns a sentiment score based on the lexicon downloaded above."
      ]
    },
    {
      "cell_type": "code",
      "source": [
        "import re\n",
        "\n",
        "sentence = \"This is a good example of great coding, but with some bad practices\"\n",
        "\n",
        "def getSentiment(doc, lexicon):\n",
        "    score = 0\n",
        "    tokens = re.findall('[A-Za-z0-9]+', doc.lower())\n",
        "    for token in tokens:\n",
        "        if token in lexicon:\n",
        "            score += lexicon[token]\n",
        "    return score\n",
        "\n",
        "sentiment_score = getSentiment(sentence, lexicon)\n",
        "print(sentiment_score)\n"
      ],
      "metadata": {
        "colab": {
          "base_uri": "https://localhost:8080/"
        },
        "id": "aVBl7_lZIVqz",
        "outputId": "1727e0ff-9983-4136-8fc8-e09661810226"
      },
      "execution_count": 20,
      "outputs": [
        {
          "output_type": "stream",
          "name": "stdout",
          "text": [
            "2.5\n"
          ]
        }
      ]
    },
    {
      "cell_type": "markdown",
      "metadata": {
        "id": "2ZmrjE5tGQo_"
      },
      "source": [
        "# Question 3"
      ]
    },
    {
      "cell_type": "markdown",
      "metadata": {
        "id": "SiJGNTJOI6o_"
      },
      "source": [
        "Install the google-play-scraper library."
      ]
    },
    {
      "cell_type": "code",
      "execution_count": 11,
      "metadata": {
        "id": "Czvp6sv5JK_e",
        "colab": {
          "base_uri": "https://localhost:8080/"
        },
        "outputId": "835a729f-ba5d-4c74-8c4f-a25b559dba1c"
      },
      "outputs": [
        {
          "output_type": "stream",
          "name": "stdout",
          "text": [
            "Collecting google-play-scraper\n",
            "  Downloading google_play_scraper-1.2.6-py3-none-any.whl (28 kB)\n",
            "Installing collected packages: google-play-scraper\n",
            "Successfully installed google-play-scraper-1.2.6\n"
          ]
        }
      ],
      "source": [
        "!pip install google-play-scraper"
      ]
    },
    {
      "cell_type": "markdown",
      "metadata": {
        "id": "q2ttAM8gS3vZ"
      },
      "source": [
        "# Question 4"
      ]
    },
    {
      "cell_type": "markdown",
      "metadata": {
        "id": "YYO1QcDPJMli"
      },
      "source": [
        "Impor the google-play-scraper library."
      ]
    },
    {
      "cell_type": "code",
      "execution_count": 12,
      "metadata": {
        "id": "IwhkVCSoKphA"
      },
      "outputs": [],
      "source": [
        "import google_play_scraper"
      ]
    },
    {
      "cell_type": "markdown",
      "metadata": {
        "id": "biNiCNxmL864"
      },
      "source": [
        "# Question 5"
      ]
    },
    {
      "cell_type": "markdown",
      "metadata": {
        "id": "Ou_-vk-rKrrD"
      },
      "source": [
        "Find the app id for the RBC app on the Google Play Store and save it in the variable `appid`."
      ]
    },
    {
      "cell_type": "code",
      "execution_count": 13,
      "metadata": {
        "id": "guSv6RRjLEYC"
      },
      "outputs": [],
      "source": [
        "appid = 'com.rbc.mobile.android'"
      ]
    },
    {
      "cell_type": "markdown",
      "metadata": {
        "id": "GALZMNd3TRSX"
      },
      "source": [
        "# Question 6"
      ]
    },
    {
      "cell_type": "markdown",
      "metadata": {
        "id": "UcAw-thbLG9o"
      },
      "source": [
        "Download all available reviews and store them in the variable `rbc_reviews`."
      ]
    },
    {
      "cell_type": "code",
      "execution_count": 80,
      "metadata": {
        "id": "OyNdfYVeK2Z0"
      },
      "outputs": [],
      "source": [
        "rbc_reviews = google_play_scraper.reviews_all(\n",
        " appid,\n",
        "lang='en',\n",
        "country='ca'\n",
        ")"
      ]
    },
    {
      "cell_type": "code",
      "source": [
        "rbc_reviews[0]"
      ],
      "metadata": {
        "colab": {
          "base_uri": "https://localhost:8080/"
        },
        "id": "NE3EZrV_lISg",
        "outputId": "f5c9e0f1-0082-4f41-cea5-d264835fb352"
      },
      "execution_count": 81,
      "outputs": [
        {
          "output_type": "execute_result",
          "data": {
            "text/plain": [
              "{'reviewId': '2ab7d674-f672-41fc-a04d-4ad886d0aafa',\n",
              " 'userName': 'Arkham Assassin',\n",
              " 'userImage': 'https://play-lh.googleusercontent.com/a/ACg8ocL4xZNyaOeEVsC5dLo7ZIrlfq8O2v-wVfuWaKu5r2o9=mo',\n",
              " 'content': \"You can see your transactions but there's no description as to what they are so you can't tell where your money went.\",\n",
              " 'score': 2,\n",
              " 'thumbsUpCount': 0,\n",
              " 'reviewCreatedVersion': '4.37',\n",
              " 'at': datetime.datetime(2024, 2, 5, 11, 9, 51),\n",
              " 'replyContent': None,\n",
              " 'repliedAt': None,\n",
              " 'appVersion': '4.37'}"
            ]
          },
          "metadata": {},
          "execution_count": 81
        }
      ]
    },
    {
      "cell_type": "markdown",
      "metadata": {
        "id": "YggZxoBNNBa4"
      },
      "source": [
        "# Question 7"
      ]
    },
    {
      "cell_type": "markdown",
      "metadata": {
        "id": "ryQmRpR1M2_e"
      },
      "source": [
        "Use the function from Question 2 to add a `sentiment_score` to each review."
      ]
    },
    {
      "cell_type": "code",
      "execution_count": 82,
      "metadata": {
        "id": "ubfuT16DNEwx",
        "colab": {
          "base_uri": "https://localhost:8080/"
        },
        "outputId": "7a1f690d-8115-4921-d76a-d8a32c30b563"
      },
      "outputs": [
        {
          "output_type": "stream",
          "name": "stdout",
          "text": [
            "-1.2\n",
            "3.2\n",
            "2.2\n",
            "3.6\n",
            "6.3\n"
          ]
        }
      ],
      "source": [
        "for review in rbc_reviews[0:5]:\n",
        "    review_text = review.get('content', '')\n",
        "    sentiment_score = getSentiment(review_text, lexicon)\n",
        "    print(sentiment_score)"
      ]
    },
    {
      "cell_type": "code",
      "source": [
        "for review in rbc_reviews:\n",
        "    content = review.get('content')\n",
        "    if content:\n",
        "        sentiment_score = getSentiment(content, lexicon)\n",
        "        review['sentiment_score'] = sentiment_score\n",
        "    else:\n",
        "        review['sentiment_score'] = 0"
      ],
      "metadata": {
        "id": "7QDVu-boAO3Q"
      },
      "execution_count": 83,
      "outputs": []
    },
    {
      "cell_type": "code",
      "source": [
        "rbc_reviews [0]"
      ],
      "metadata": {
        "colab": {
          "base_uri": "https://localhost:8080/"
        },
        "id": "AEqav8PBCw3X",
        "outputId": "af092f0f-e8fa-4300-9cc2-4e77696c90f4"
      },
      "execution_count": 84,
      "outputs": [
        {
          "output_type": "execute_result",
          "data": {
            "text/plain": [
              "{'reviewId': '2ab7d674-f672-41fc-a04d-4ad886d0aafa',\n",
              " 'userName': 'Arkham Assassin',\n",
              " 'userImage': 'https://play-lh.googleusercontent.com/a/ACg8ocL4xZNyaOeEVsC5dLo7ZIrlfq8O2v-wVfuWaKu5r2o9=mo',\n",
              " 'content': \"You can see your transactions but there's no description as to what they are so you can't tell where your money went.\",\n",
              " 'score': 2,\n",
              " 'thumbsUpCount': 0,\n",
              " 'reviewCreatedVersion': '4.37',\n",
              " 'at': datetime.datetime(2024, 2, 5, 11, 9, 51),\n",
              " 'replyContent': None,\n",
              " 'repliedAt': None,\n",
              " 'appVersion': '4.37',\n",
              " 'sentiment_score': -1.2}"
            ]
          },
          "metadata": {},
          "execution_count": 84
        }
      ]
    },
    {
      "cell_type": "markdown",
      "metadata": {
        "id": "siOvvvfOVOQ5"
      },
      "source": [
        "# Question 8"
      ]
    },
    {
      "cell_type": "markdown",
      "metadata": {
        "id": "C9AASCLIVOQ7"
      },
      "source": [
        "Add a `sentiment_flag` variable to each review. It should be equal to 'pos' if the `sentiment_score` is greater than 0, 'neg' if the `sentiment_score` is less than 0, and 'neu' if the `sentiment_score` is equal to 0."
      ]
    },
    {
      "cell_type": "code",
      "execution_count": 85,
      "metadata": {
        "id": "yCNy1qfmVOQ7"
      },
      "outputs": [],
      "source": [
        "for review in rbc_reviews:\n",
        "    if review['sentiment_score'] > 0:\n",
        "        review['sentiment_flag'] = 'pos'\n",
        "    elif review['sentiment_score'] < 0:\n",
        "        review['sentiment_flag'] = 'neg'\n",
        "    else:\n",
        "        review['sentiment_flag'] = 'neu'\n"
      ]
    },
    {
      "cell_type": "code",
      "source": [
        "rbc_reviews [0]"
      ],
      "metadata": {
        "colab": {
          "base_uri": "https://localhost:8080/"
        },
        "id": "4gMy-lNGxCDh",
        "outputId": "eafba7fd-1ec3-45d9-f856-34cf2156164d"
      },
      "execution_count": 86,
      "outputs": [
        {
          "output_type": "execute_result",
          "data": {
            "text/plain": [
              "{'reviewId': '2ab7d674-f672-41fc-a04d-4ad886d0aafa',\n",
              " 'userName': 'Arkham Assassin',\n",
              " 'userImage': 'https://play-lh.googleusercontent.com/a/ACg8ocL4xZNyaOeEVsC5dLo7ZIrlfq8O2v-wVfuWaKu5r2o9=mo',\n",
              " 'content': \"You can see your transactions but there's no description as to what they are so you can't tell where your money went.\",\n",
              " 'score': 2,\n",
              " 'thumbsUpCount': 0,\n",
              " 'reviewCreatedVersion': '4.37',\n",
              " 'at': datetime.datetime(2024, 2, 5, 11, 9, 51),\n",
              " 'replyContent': None,\n",
              " 'repliedAt': None,\n",
              " 'appVersion': '4.37',\n",
              " 'sentiment_score': -1.2,\n",
              " 'sentiment_flag': 'neg'}"
            ]
          },
          "metadata": {},
          "execution_count": 86
        }
      ]
    },
    {
      "cell_type": "markdown",
      "metadata": {
        "id": "KFmNYpnbZ5bN"
      },
      "source": [
        "# Question 9"
      ]
    },
    {
      "cell_type": "markdown",
      "metadata": {
        "id": "0-V4FmLXZ5js"
      },
      "source": [
        "Add a year variable that indicates what `year` the review is from."
      ]
    },
    {
      "cell_type": "code",
      "execution_count": 95,
      "metadata": {
        "id": "jrCcOEC2Z5uI"
      },
      "outputs": [],
      "source": [
        "for review in rbc_reviews:\n",
        "  review ['year'] = review [ 'at'].year"
      ]
    },
    {
      "cell_type": "code",
      "source": [
        "rbc_reviews [3500]"
      ],
      "metadata": {
        "colab": {
          "base_uri": "https://localhost:8080/"
        },
        "id": "HmfR6ZzAUt44",
        "outputId": "4ed56169-7a5d-4951-cb73-68c37f83842f"
      },
      "execution_count": 96,
      "outputs": [
        {
          "output_type": "execute_result",
          "data": {
            "text/plain": [
              "{'reviewId': '630bfd4c-fd6a-480f-b84f-9578a207286d',\n",
              " 'userName': 'A Google user',\n",
              " 'userImage': 'https://play-lh.googleusercontent.com/EGemoI2NTXmTsBVtJqk8jxF9rh8ApRWfsIMQSt2uE4OcpQqbFu7f7NbTK05lx80nuSijCz7sc3a277R67g',\n",
              " 'content': \"Quite possibly the worst banking and trading app imaginable. Every action takes 20 clicks and that's if it doesnt log you out in the middle of your transaction.\",\n",
              " 'score': 1,\n",
              " 'thumbsUpCount': 3,\n",
              " 'reviewCreatedVersion': '4.9',\n",
              " 'at': datetime.datetime(2020, 4, 21, 13, 57, 15),\n",
              " 'replyContent': 'Hi Paul. Thanks for taking the time to share your feedback on the RBC Direct Investing app. Your input is appreciated, and we will pass it onto our RBC Direct Investing team. -- Kevin',\n",
              " 'repliedAt': datetime.datetime(2020, 4, 21, 18, 7, 26),\n",
              " 'appVersion': '4.9',\n",
              " 'sentiment_score': -3.1,\n",
              " 'sentiment_flag': 'neg',\n",
              " 'year': 2020}"
            ]
          },
          "metadata": {},
          "execution_count": 96
        }
      ]
    },
    {
      "cell_type": "markdown",
      "metadata": {
        "id": "dYWLubouNPAV"
      },
      "source": [
        "# Question 10"
      ]
    },
    {
      "cell_type": "markdown",
      "metadata": {
        "id": "MGuGXjGINT_Z"
      },
      "source": [
        "Convert `rbc_reviews` into a Pandas dataframe."
      ]
    },
    {
      "cell_type": "code",
      "execution_count": 89,
      "metadata": {
        "id": "-zqRVMEpRIHo",
        "colab": {
          "base_uri": "https://localhost:8080/",
          "height": 1000
        },
        "outputId": "a9245f78-ae7c-42ff-a17b-1746fb9e52cc"
      },
      "outputs": [
        {
          "output_type": "execute_result",
          "data": {
            "text/plain": [
              "                                   reviewId  \\\n",
              "0      2ab7d674-f672-41fc-a04d-4ad886d0aafa   \n",
              "1      cbe7a397-2dad-4eca-8ec8-f0fe47a4ab45   \n",
              "2      e050fe7a-170a-4368-b413-540332d75e91   \n",
              "3      d30c30c7-ba56-4826-bfcc-80443dadd8d6   \n",
              "4      5b15930b-ac69-41d8-bc4b-eafd6113e06c   \n",
              "...                                     ...   \n",
              "13726  c6950c1c-4f4a-4e62-87e9-a25f90ebcac2   \n",
              "13727  916d509a-3483-4f10-b2e0-e0116884831d   \n",
              "13728  2913bf85-07d1-440e-90ef-63cab8b31b24   \n",
              "13729  2e708155-7c69-4efd-9892-d9c0f80c0af3   \n",
              "13730  59e90573-15b2-4305-9028-ae51945de435   \n",
              "\n",
              "                                             userName  \\\n",
              "0                                     Arkham Assassin   \n",
              "1                                Juma Al Hajj Shariff   \n",
              "2                                             Genny w   \n",
              "3      Christopher Schafer (Christopher Ryan Schafer)   \n",
              "4                                     Chrissy Rideout   \n",
              "...                                               ...   \n",
              "13726                                   A Google user   \n",
              "13727                                   A Google user   \n",
              "13728                                   A Google user   \n",
              "13729                                   A Google user   \n",
              "13730                                   A Google user   \n",
              "\n",
              "                                               userImage  \\\n",
              "0      https://play-lh.googleusercontent.com/a/ACg8oc...   \n",
              "1      https://play-lh.googleusercontent.com/a-/ALV-U...   \n",
              "2      https://play-lh.googleusercontent.com/a-/ALV-U...   \n",
              "3      https://play-lh.googleusercontent.com/a-/ALV-U...   \n",
              "4      https://play-lh.googleusercontent.com/a-/ALV-U...   \n",
              "...                                                  ...   \n",
              "13726  https://play-lh.googleusercontent.com/EGemoI2N...   \n",
              "13727  https://play-lh.googleusercontent.com/EGemoI2N...   \n",
              "13728  https://play-lh.googleusercontent.com/EGemoI2N...   \n",
              "13729  https://play-lh.googleusercontent.com/EGemoI2N...   \n",
              "13730  https://play-lh.googleusercontent.com/EGemoI2N...   \n",
              "\n",
              "                                                 content  score  \\\n",
              "0      You can see your transactions but there's no d...      2   \n",
              "1      Rbc is the best of all banking institutions in...      5   \n",
              "2      I have been with Royal bank for years and they...      5   \n",
              "3      Etransfer id selfie rarely works, thankfully I...      2   \n",
              "4      Thank you for helping me. This app sure came a...      5   \n",
              "...                                                  ...    ...   \n",
              "13726  Fix the gps bug and maybe I'll give this app m...      1   \n",
              "13727    Been waiting for this apparently FOREVER! !!!!!      5   \n",
              "13728                                             Sweeet      5   \n",
              "13729  I signed in easily - found e transfer - all my...      5   \n",
              "13730                                       Great so far      4   \n",
              "\n",
              "       thumbsUpCount reviewCreatedVersion                  at  \\\n",
              "0                  0                 4.37 2024-02-05 11:09:51   \n",
              "1                  0                 4.37 2024-02-05 07:07:44   \n",
              "2                  0                 4.37 2024-02-05 00:47:06   \n",
              "3                  0                 4.37 2024-02-04 22:21:19   \n",
              "4                  2                 4.37 2024-02-04 14:08:25   \n",
              "...              ...                  ...                 ...   \n",
              "13726              5                  1.0 2011-10-09 22:50:44   \n",
              "13727              1                  1.0 2011-10-09 22:40:28   \n",
              "13728              0                  1.0 2011-10-09 01:50:58   \n",
              "13729              0                  1.0 2011-10-07 21:14:28   \n",
              "13730              0                  1.0 2011-10-07 07:18:31   \n",
              "\n",
              "                                            replyContent           repliedAt  \\\n",
              "0                                                   None                 NaT   \n",
              "1                                                   None                 NaT   \n",
              "2                                                   None                 NaT   \n",
              "3                                                   None                 NaT   \n",
              "4      Hi Chrissy, we're sorry to hear that you're ha... 2020-04-21 15:10:48   \n",
              "...                                                  ...                 ...   \n",
              "13726                                               None                 NaT   \n",
              "13727                                               None                 NaT   \n",
              "13728                                               None                 NaT   \n",
              "13729                                               None                 NaT   \n",
              "13730                                               None                 NaT   \n",
              "\n",
              "      appVersion  sentiment_score sentiment_flag  year  \n",
              "0           4.37             -1.2            neg  2024  \n",
              "1           4.37              3.2            pos  2024  \n",
              "2           4.37              2.2            pos  2024  \n",
              "3           4.37              3.6            pos  2024  \n",
              "4           4.37              6.3            pos  2024  \n",
              "...          ...              ...            ...   ...  \n",
              "13726        1.0              0.0            neu  2011  \n",
              "13727        1.0              0.0            neu  2011  \n",
              "13728        1.0              0.0            neu  2011  \n",
              "13729        1.0              7.3            pos  2011  \n",
              "13730        1.0              3.1            pos  2011  \n",
              "\n",
              "[13731 rows x 14 columns]"
            ],
            "text/html": [
              "\n",
              "  <div id=\"df-acb795b5-f197-4df2-939d-c9006fc66ec7\" class=\"colab-df-container\">\n",
              "    <div>\n",
              "<style scoped>\n",
              "    .dataframe tbody tr th:only-of-type {\n",
              "        vertical-align: middle;\n",
              "    }\n",
              "\n",
              "    .dataframe tbody tr th {\n",
              "        vertical-align: top;\n",
              "    }\n",
              "\n",
              "    .dataframe thead th {\n",
              "        text-align: right;\n",
              "    }\n",
              "</style>\n",
              "<table border=\"1\" class=\"dataframe\">\n",
              "  <thead>\n",
              "    <tr style=\"text-align: right;\">\n",
              "      <th></th>\n",
              "      <th>reviewId</th>\n",
              "      <th>userName</th>\n",
              "      <th>userImage</th>\n",
              "      <th>content</th>\n",
              "      <th>score</th>\n",
              "      <th>thumbsUpCount</th>\n",
              "      <th>reviewCreatedVersion</th>\n",
              "      <th>at</th>\n",
              "      <th>replyContent</th>\n",
              "      <th>repliedAt</th>\n",
              "      <th>appVersion</th>\n",
              "      <th>sentiment_score</th>\n",
              "      <th>sentiment_flag</th>\n",
              "      <th>year</th>\n",
              "    </tr>\n",
              "  </thead>\n",
              "  <tbody>\n",
              "    <tr>\n",
              "      <th>0</th>\n",
              "      <td>2ab7d674-f672-41fc-a04d-4ad886d0aafa</td>\n",
              "      <td>Arkham Assassin</td>\n",
              "      <td>https://play-lh.googleusercontent.com/a/ACg8oc...</td>\n",
              "      <td>You can see your transactions but there's no d...</td>\n",
              "      <td>2</td>\n",
              "      <td>0</td>\n",
              "      <td>4.37</td>\n",
              "      <td>2024-02-05 11:09:51</td>\n",
              "      <td>None</td>\n",
              "      <td>NaT</td>\n",
              "      <td>4.37</td>\n",
              "      <td>-1.2</td>\n",
              "      <td>neg</td>\n",
              "      <td>2024</td>\n",
              "    </tr>\n",
              "    <tr>\n",
              "      <th>1</th>\n",
              "      <td>cbe7a397-2dad-4eca-8ec8-f0fe47a4ab45</td>\n",
              "      <td>Juma Al Hajj Shariff</td>\n",
              "      <td>https://play-lh.googleusercontent.com/a-/ALV-U...</td>\n",
              "      <td>Rbc is the best of all banking institutions in...</td>\n",
              "      <td>5</td>\n",
              "      <td>0</td>\n",
              "      <td>4.37</td>\n",
              "      <td>2024-02-05 07:07:44</td>\n",
              "      <td>None</td>\n",
              "      <td>NaT</td>\n",
              "      <td>4.37</td>\n",
              "      <td>3.2</td>\n",
              "      <td>pos</td>\n",
              "      <td>2024</td>\n",
              "    </tr>\n",
              "    <tr>\n",
              "      <th>2</th>\n",
              "      <td>e050fe7a-170a-4368-b413-540332d75e91</td>\n",
              "      <td>Genny w</td>\n",
              "      <td>https://play-lh.googleusercontent.com/a-/ALV-U...</td>\n",
              "      <td>I have been with Royal bank for years and they...</td>\n",
              "      <td>5</td>\n",
              "      <td>0</td>\n",
              "      <td>4.37</td>\n",
              "      <td>2024-02-05 00:47:06</td>\n",
              "      <td>None</td>\n",
              "      <td>NaT</td>\n",
              "      <td>4.37</td>\n",
              "      <td>2.2</td>\n",
              "      <td>pos</td>\n",
              "      <td>2024</td>\n",
              "    </tr>\n",
              "    <tr>\n",
              "      <th>3</th>\n",
              "      <td>d30c30c7-ba56-4826-bfcc-80443dadd8d6</td>\n",
              "      <td>Christopher Schafer (Christopher Ryan Schafer)</td>\n",
              "      <td>https://play-lh.googleusercontent.com/a-/ALV-U...</td>\n",
              "      <td>Etransfer id selfie rarely works, thankfully I...</td>\n",
              "      <td>2</td>\n",
              "      <td>0</td>\n",
              "      <td>4.37</td>\n",
              "      <td>2024-02-04 22:21:19</td>\n",
              "      <td>None</td>\n",
              "      <td>NaT</td>\n",
              "      <td>4.37</td>\n",
              "      <td>3.6</td>\n",
              "      <td>pos</td>\n",
              "      <td>2024</td>\n",
              "    </tr>\n",
              "    <tr>\n",
              "      <th>4</th>\n",
              "      <td>5b15930b-ac69-41d8-bc4b-eafd6113e06c</td>\n",
              "      <td>Chrissy Rideout</td>\n",
              "      <td>https://play-lh.googleusercontent.com/a-/ALV-U...</td>\n",
              "      <td>Thank you for helping me. This app sure came a...</td>\n",
              "      <td>5</td>\n",
              "      <td>2</td>\n",
              "      <td>4.37</td>\n",
              "      <td>2024-02-04 14:08:25</td>\n",
              "      <td>Hi Chrissy, we're sorry to hear that you're ha...</td>\n",
              "      <td>2020-04-21 15:10:48</td>\n",
              "      <td>4.37</td>\n",
              "      <td>6.3</td>\n",
              "      <td>pos</td>\n",
              "      <td>2024</td>\n",
              "    </tr>\n",
              "    <tr>\n",
              "      <th>...</th>\n",
              "      <td>...</td>\n",
              "      <td>...</td>\n",
              "      <td>...</td>\n",
              "      <td>...</td>\n",
              "      <td>...</td>\n",
              "      <td>...</td>\n",
              "      <td>...</td>\n",
              "      <td>...</td>\n",
              "      <td>...</td>\n",
              "      <td>...</td>\n",
              "      <td>...</td>\n",
              "      <td>...</td>\n",
              "      <td>...</td>\n",
              "      <td>...</td>\n",
              "    </tr>\n",
              "    <tr>\n",
              "      <th>13726</th>\n",
              "      <td>c6950c1c-4f4a-4e62-87e9-a25f90ebcac2</td>\n",
              "      <td>A Google user</td>\n",
              "      <td>https://play-lh.googleusercontent.com/EGemoI2N...</td>\n",
              "      <td>Fix the gps bug and maybe I'll give this app m...</td>\n",
              "      <td>1</td>\n",
              "      <td>5</td>\n",
              "      <td>1.0</td>\n",
              "      <td>2011-10-09 22:50:44</td>\n",
              "      <td>None</td>\n",
              "      <td>NaT</td>\n",
              "      <td>1.0</td>\n",
              "      <td>0.0</td>\n",
              "      <td>neu</td>\n",
              "      <td>2011</td>\n",
              "    </tr>\n",
              "    <tr>\n",
              "      <th>13727</th>\n",
              "      <td>916d509a-3483-4f10-b2e0-e0116884831d</td>\n",
              "      <td>A Google user</td>\n",
              "      <td>https://play-lh.googleusercontent.com/EGemoI2N...</td>\n",
              "      <td>Been waiting for this apparently FOREVER! !!!!!</td>\n",
              "      <td>5</td>\n",
              "      <td>1</td>\n",
              "      <td>1.0</td>\n",
              "      <td>2011-10-09 22:40:28</td>\n",
              "      <td>None</td>\n",
              "      <td>NaT</td>\n",
              "      <td>1.0</td>\n",
              "      <td>0.0</td>\n",
              "      <td>neu</td>\n",
              "      <td>2011</td>\n",
              "    </tr>\n",
              "    <tr>\n",
              "      <th>13728</th>\n",
              "      <td>2913bf85-07d1-440e-90ef-63cab8b31b24</td>\n",
              "      <td>A Google user</td>\n",
              "      <td>https://play-lh.googleusercontent.com/EGemoI2N...</td>\n",
              "      <td>Sweeet</td>\n",
              "      <td>5</td>\n",
              "      <td>0</td>\n",
              "      <td>1.0</td>\n",
              "      <td>2011-10-09 01:50:58</td>\n",
              "      <td>None</td>\n",
              "      <td>NaT</td>\n",
              "      <td>1.0</td>\n",
              "      <td>0.0</td>\n",
              "      <td>neu</td>\n",
              "      <td>2011</td>\n",
              "    </tr>\n",
              "    <tr>\n",
              "      <th>13729</th>\n",
              "      <td>2e708155-7c69-4efd-9892-d9c0f80c0af3</td>\n",
              "      <td>A Google user</td>\n",
              "      <td>https://play-lh.googleusercontent.com/EGemoI2N...</td>\n",
              "      <td>I signed in easily - found e transfer - all my...</td>\n",
              "      <td>5</td>\n",
              "      <td>0</td>\n",
              "      <td>1.0</td>\n",
              "      <td>2011-10-07 21:14:28</td>\n",
              "      <td>None</td>\n",
              "      <td>NaT</td>\n",
              "      <td>1.0</td>\n",
              "      <td>7.3</td>\n",
              "      <td>pos</td>\n",
              "      <td>2011</td>\n",
              "    </tr>\n",
              "    <tr>\n",
              "      <th>13730</th>\n",
              "      <td>59e90573-15b2-4305-9028-ae51945de435</td>\n",
              "      <td>A Google user</td>\n",
              "      <td>https://play-lh.googleusercontent.com/EGemoI2N...</td>\n",
              "      <td>Great so far</td>\n",
              "      <td>4</td>\n",
              "      <td>0</td>\n",
              "      <td>1.0</td>\n",
              "      <td>2011-10-07 07:18:31</td>\n",
              "      <td>None</td>\n",
              "      <td>NaT</td>\n",
              "      <td>1.0</td>\n",
              "      <td>3.1</td>\n",
              "      <td>pos</td>\n",
              "      <td>2011</td>\n",
              "    </tr>\n",
              "  </tbody>\n",
              "</table>\n",
              "<p>13731 rows × 14 columns</p>\n",
              "</div>\n",
              "    <div class=\"colab-df-buttons\">\n",
              "\n",
              "  <div class=\"colab-df-container\">\n",
              "    <button class=\"colab-df-convert\" onclick=\"convertToInteractive('df-acb795b5-f197-4df2-939d-c9006fc66ec7')\"\n",
              "            title=\"Convert this dataframe to an interactive table.\"\n",
              "            style=\"display:none;\">\n",
              "\n",
              "  <svg xmlns=\"http://www.w3.org/2000/svg\" height=\"24px\" viewBox=\"0 -960 960 960\">\n",
              "    <path d=\"M120-120v-720h720v720H120Zm60-500h600v-160H180v160Zm220 220h160v-160H400v160Zm0 220h160v-160H400v160ZM180-400h160v-160H180v160Zm440 0h160v-160H620v160ZM180-180h160v-160H180v160Zm440 0h160v-160H620v160Z\"/>\n",
              "  </svg>\n",
              "    </button>\n",
              "\n",
              "  <style>\n",
              "    .colab-df-container {\n",
              "      display:flex;\n",
              "      gap: 12px;\n",
              "    }\n",
              "\n",
              "    .colab-df-convert {\n",
              "      background-color: #E8F0FE;\n",
              "      border: none;\n",
              "      border-radius: 50%;\n",
              "      cursor: pointer;\n",
              "      display: none;\n",
              "      fill: #1967D2;\n",
              "      height: 32px;\n",
              "      padding: 0 0 0 0;\n",
              "      width: 32px;\n",
              "    }\n",
              "\n",
              "    .colab-df-convert:hover {\n",
              "      background-color: #E2EBFA;\n",
              "      box-shadow: 0px 1px 2px rgba(60, 64, 67, 0.3), 0px 1px 3px 1px rgba(60, 64, 67, 0.15);\n",
              "      fill: #174EA6;\n",
              "    }\n",
              "\n",
              "    .colab-df-buttons div {\n",
              "      margin-bottom: 4px;\n",
              "    }\n",
              "\n",
              "    [theme=dark] .colab-df-convert {\n",
              "      background-color: #3B4455;\n",
              "      fill: #D2E3FC;\n",
              "    }\n",
              "\n",
              "    [theme=dark] .colab-df-convert:hover {\n",
              "      background-color: #434B5C;\n",
              "      box-shadow: 0px 1px 3px 1px rgba(0, 0, 0, 0.15);\n",
              "      filter: drop-shadow(0px 1px 2px rgba(0, 0, 0, 0.3));\n",
              "      fill: #FFFFFF;\n",
              "    }\n",
              "  </style>\n",
              "\n",
              "    <script>\n",
              "      const buttonEl =\n",
              "        document.querySelector('#df-acb795b5-f197-4df2-939d-c9006fc66ec7 button.colab-df-convert');\n",
              "      buttonEl.style.display =\n",
              "        google.colab.kernel.accessAllowed ? 'block' : 'none';\n",
              "\n",
              "      async function convertToInteractive(key) {\n",
              "        const element = document.querySelector('#df-acb795b5-f197-4df2-939d-c9006fc66ec7');\n",
              "        const dataTable =\n",
              "          await google.colab.kernel.invokeFunction('convertToInteractive',\n",
              "                                                    [key], {});\n",
              "        if (!dataTable) return;\n",
              "\n",
              "        const docLinkHtml = 'Like what you see? Visit the ' +\n",
              "          '<a target=\"_blank\" href=https://colab.research.google.com/notebooks/data_table.ipynb>data table notebook</a>'\n",
              "          + ' to learn more about interactive tables.';\n",
              "        element.innerHTML = '';\n",
              "        dataTable['output_type'] = 'display_data';\n",
              "        await google.colab.output.renderOutput(dataTable, element);\n",
              "        const docLink = document.createElement('div');\n",
              "        docLink.innerHTML = docLinkHtml;\n",
              "        element.appendChild(docLink);\n",
              "      }\n",
              "    </script>\n",
              "  </div>\n",
              "\n",
              "\n",
              "<div id=\"df-7514d6f9-0de4-413a-9129-2831da4a5610\">\n",
              "  <button class=\"colab-df-quickchart\" onclick=\"quickchart('df-7514d6f9-0de4-413a-9129-2831da4a5610')\"\n",
              "            title=\"Suggest charts\"\n",
              "            style=\"display:none;\">\n",
              "\n",
              "<svg xmlns=\"http://www.w3.org/2000/svg\" height=\"24px\"viewBox=\"0 0 24 24\"\n",
              "     width=\"24px\">\n",
              "    <g>\n",
              "        <path d=\"M19 3H5c-1.1 0-2 .9-2 2v14c0 1.1.9 2 2 2h14c1.1 0 2-.9 2-2V5c0-1.1-.9-2-2-2zM9 17H7v-7h2v7zm4 0h-2V7h2v10zm4 0h-2v-4h2v4z\"/>\n",
              "    </g>\n",
              "</svg>\n",
              "  </button>\n",
              "\n",
              "<style>\n",
              "  .colab-df-quickchart {\n",
              "      --bg-color: #E8F0FE;\n",
              "      --fill-color: #1967D2;\n",
              "      --hover-bg-color: #E2EBFA;\n",
              "      --hover-fill-color: #174EA6;\n",
              "      --disabled-fill-color: #AAA;\n",
              "      --disabled-bg-color: #DDD;\n",
              "  }\n",
              "\n",
              "  [theme=dark] .colab-df-quickchart {\n",
              "      --bg-color: #3B4455;\n",
              "      --fill-color: #D2E3FC;\n",
              "      --hover-bg-color: #434B5C;\n",
              "      --hover-fill-color: #FFFFFF;\n",
              "      --disabled-bg-color: #3B4455;\n",
              "      --disabled-fill-color: #666;\n",
              "  }\n",
              "\n",
              "  .colab-df-quickchart {\n",
              "    background-color: var(--bg-color);\n",
              "    border: none;\n",
              "    border-radius: 50%;\n",
              "    cursor: pointer;\n",
              "    display: none;\n",
              "    fill: var(--fill-color);\n",
              "    height: 32px;\n",
              "    padding: 0;\n",
              "    width: 32px;\n",
              "  }\n",
              "\n",
              "  .colab-df-quickchart:hover {\n",
              "    background-color: var(--hover-bg-color);\n",
              "    box-shadow: 0 1px 2px rgba(60, 64, 67, 0.3), 0 1px 3px 1px rgba(60, 64, 67, 0.15);\n",
              "    fill: var(--button-hover-fill-color);\n",
              "  }\n",
              "\n",
              "  .colab-df-quickchart-complete:disabled,\n",
              "  .colab-df-quickchart-complete:disabled:hover {\n",
              "    background-color: var(--disabled-bg-color);\n",
              "    fill: var(--disabled-fill-color);\n",
              "    box-shadow: none;\n",
              "  }\n",
              "\n",
              "  .colab-df-spinner {\n",
              "    border: 2px solid var(--fill-color);\n",
              "    border-color: transparent;\n",
              "    border-bottom-color: var(--fill-color);\n",
              "    animation:\n",
              "      spin 1s steps(1) infinite;\n",
              "  }\n",
              "\n",
              "  @keyframes spin {\n",
              "    0% {\n",
              "      border-color: transparent;\n",
              "      border-bottom-color: var(--fill-color);\n",
              "      border-left-color: var(--fill-color);\n",
              "    }\n",
              "    20% {\n",
              "      border-color: transparent;\n",
              "      border-left-color: var(--fill-color);\n",
              "      border-top-color: var(--fill-color);\n",
              "    }\n",
              "    30% {\n",
              "      border-color: transparent;\n",
              "      border-left-color: var(--fill-color);\n",
              "      border-top-color: var(--fill-color);\n",
              "      border-right-color: var(--fill-color);\n",
              "    }\n",
              "    40% {\n",
              "      border-color: transparent;\n",
              "      border-right-color: var(--fill-color);\n",
              "      border-top-color: var(--fill-color);\n",
              "    }\n",
              "    60% {\n",
              "      border-color: transparent;\n",
              "      border-right-color: var(--fill-color);\n",
              "    }\n",
              "    80% {\n",
              "      border-color: transparent;\n",
              "      border-right-color: var(--fill-color);\n",
              "      border-bottom-color: var(--fill-color);\n",
              "    }\n",
              "    90% {\n",
              "      border-color: transparent;\n",
              "      border-bottom-color: var(--fill-color);\n",
              "    }\n",
              "  }\n",
              "</style>\n",
              "\n",
              "  <script>\n",
              "    async function quickchart(key) {\n",
              "      const quickchartButtonEl =\n",
              "        document.querySelector('#' + key + ' button');\n",
              "      quickchartButtonEl.disabled = true;  // To prevent multiple clicks.\n",
              "      quickchartButtonEl.classList.add('colab-df-spinner');\n",
              "      try {\n",
              "        const charts = await google.colab.kernel.invokeFunction(\n",
              "            'suggestCharts', [key], {});\n",
              "      } catch (error) {\n",
              "        console.error('Error during call to suggestCharts:', error);\n",
              "      }\n",
              "      quickchartButtonEl.classList.remove('colab-df-spinner');\n",
              "      quickchartButtonEl.classList.add('colab-df-quickchart-complete');\n",
              "    }\n",
              "    (() => {\n",
              "      let quickchartButtonEl =\n",
              "        document.querySelector('#df-7514d6f9-0de4-413a-9129-2831da4a5610 button');\n",
              "      quickchartButtonEl.style.display =\n",
              "        google.colab.kernel.accessAllowed ? 'block' : 'none';\n",
              "    })();\n",
              "  </script>\n",
              "</div>\n",
              "\n",
              "  <div id=\"id_a488f3e2-f3b8-47d6-8a27-c1c555a775cd\">\n",
              "    <style>\n",
              "      .colab-df-generate {\n",
              "        background-color: #E8F0FE;\n",
              "        border: none;\n",
              "        border-radius: 50%;\n",
              "        cursor: pointer;\n",
              "        display: none;\n",
              "        fill: #1967D2;\n",
              "        height: 32px;\n",
              "        padding: 0 0 0 0;\n",
              "        width: 32px;\n",
              "      }\n",
              "\n",
              "      .colab-df-generate:hover {\n",
              "        background-color: #E2EBFA;\n",
              "        box-shadow: 0px 1px 2px rgba(60, 64, 67, 0.3), 0px 1px 3px 1px rgba(60, 64, 67, 0.15);\n",
              "        fill: #174EA6;\n",
              "      }\n",
              "\n",
              "      [theme=dark] .colab-df-generate {\n",
              "        background-color: #3B4455;\n",
              "        fill: #D2E3FC;\n",
              "      }\n",
              "\n",
              "      [theme=dark] .colab-df-generate:hover {\n",
              "        background-color: #434B5C;\n",
              "        box-shadow: 0px 1px 3px 1px rgba(0, 0, 0, 0.15);\n",
              "        filter: drop-shadow(0px 1px 2px rgba(0, 0, 0, 0.3));\n",
              "        fill: #FFFFFF;\n",
              "      }\n",
              "    </style>\n",
              "    <button class=\"colab-df-generate\" onclick=\"generateWithVariable('df')\"\n",
              "            title=\"Generate code using this dataframe.\"\n",
              "            style=\"display:none;\">\n",
              "\n",
              "  <svg xmlns=\"http://www.w3.org/2000/svg\" height=\"24px\"viewBox=\"0 0 24 24\"\n",
              "       width=\"24px\">\n",
              "    <path d=\"M7,19H8.4L18.45,9,17,7.55,7,17.6ZM5,21V16.75L18.45,3.32a2,2,0,0,1,2.83,0l1.4,1.43a1.91,1.91,0,0,1,.58,1.4,1.91,1.91,0,0,1-.58,1.4L9.25,21ZM18.45,9,17,7.55Zm-12,3A5.31,5.31,0,0,0,4.9,8.1,5.31,5.31,0,0,0,1,6.5,5.31,5.31,0,0,0,4.9,4.9,5.31,5.31,0,0,0,6.5,1,5.31,5.31,0,0,0,8.1,4.9,5.31,5.31,0,0,0,12,6.5,5.46,5.46,0,0,0,6.5,12Z\"/>\n",
              "  </svg>\n",
              "    </button>\n",
              "    <script>\n",
              "      (() => {\n",
              "      const buttonEl =\n",
              "        document.querySelector('#id_a488f3e2-f3b8-47d6-8a27-c1c555a775cd button.colab-df-generate');\n",
              "      buttonEl.style.display =\n",
              "        google.colab.kernel.accessAllowed ? 'block' : 'none';\n",
              "\n",
              "      buttonEl.onclick = () => {\n",
              "        google.colab.notebook.generateWithVariable('df');\n",
              "      }\n",
              "      })();\n",
              "    </script>\n",
              "  </div>\n",
              "\n",
              "    </div>\n",
              "  </div>\n"
            ]
          },
          "metadata": {},
          "execution_count": 89
        }
      ],
      "source": [
        "import pandas as pd\n",
        "df = pd.DataFrame.from_records(rbc_reviews)\n",
        "df"
      ]
    },
    {
      "cell_type": "code",
      "source": [
        "df ['sentiment_flag']. value_counts().sum()"
      ],
      "metadata": {
        "colab": {
          "base_uri": "https://localhost:8080/"
        },
        "id": "t2UoLewmY4Mx",
        "outputId": "55745dab-f94e-45c2-a360-8a136559e9a0"
      },
      "execution_count": 90,
      "outputs": [
        {
          "output_type": "execute_result",
          "data": {
            "text/plain": [
              "13731"
            ]
          },
          "metadata": {},
          "execution_count": 90
        }
      ]
    },
    {
      "cell_type": "markdown",
      "metadata": {
        "id": "a2B9X_52W_tV"
      },
      "source": [
        "# Question 11"
      ]
    },
    {
      "cell_type": "markdown",
      "metadata": {
        "id": "S99L9_h0XB36"
      },
      "source": [
        "Calculate the percentage of reviews that are positive, negative, and neutral."
      ]
    },
    {
      "cell_type": "code",
      "execution_count": 68,
      "metadata": {
        "id": "dU7WT1W5XA1R",
        "colab": {
          "base_uri": "https://localhost:8080/"
        },
        "outputId": "dbd53bc6-a5cb-4aa7-d964-033b47712d5e"
      },
      "outputs": [
        {
          "output_type": "execute_result",
          "data": {
            "text/plain": [
              "pos    7949\n",
              "neg    3461\n",
              "neu    2321\n",
              "Name: sentiment_flag, dtype: int64"
            ]
          },
          "metadata": {},
          "execution_count": 68
        }
      ],
      "source": [
        "df ['sentiment_flag'].value_counts()"
      ]
    },
    {
      "cell_type": "code",
      "source": [
        "df['sentiment_flag'].value_counts()/df['sentiment_flag'].value_counts().sum()"
      ],
      "metadata": {
        "colab": {
          "base_uri": "https://localhost:8080/"
        },
        "id": "8uvOKBYxZfrS",
        "outputId": "a5122e25-5594-49c8-99c9-5c771013fe2e"
      },
      "execution_count": 69,
      "outputs": [
        {
          "output_type": "execute_result",
          "data": {
            "text/plain": [
              "pos    0.578909\n",
              "neg    0.252057\n",
              "neu    0.169034\n",
              "Name: sentiment_flag, dtype: float64"
            ]
          },
          "metadata": {},
          "execution_count": 69
        }
      ]
    },
    {
      "cell_type": "markdown",
      "metadata": {
        "id": "Yy82qFaQbPCc"
      },
      "source": [
        "# Question 12"
      ]
    },
    {
      "cell_type": "markdown",
      "metadata": {
        "id": "MQA-fK2ubPCf"
      },
      "source": [
        "Calculate the percentage of reviews that are positive, negative, and neutral for each year: 2019, 2020, 2021, 2022, 2023."
      ]
    },
    {
      "cell_type": "code",
      "source": [
        "years = df['year'].unique()\n",
        "years"
      ],
      "metadata": {
        "colab": {
          "base_uri": "https://localhost:8080/"
        },
        "id": "BJ98nyglttnm",
        "outputId": "cf1f781a-9221-4614-c2b3-66c5d9b11667"
      },
      "execution_count": 134,
      "outputs": [
        {
          "output_type": "execute_result",
          "data": {
            "text/plain": [
              "array([2024, 2023, 2022, 2021, 2020, 2019, 2018, 2017, 2016, 2015, 2014,\n",
              "       2013, 2012, 2011])"
            ]
          },
          "metadata": {},
          "execution_count": 134
        }
      ]
    },
    {
      "cell_type": "code",
      "execution_count": 135,
      "metadata": {
        "id": "cJydNxOHe_Z9",
        "colab": {
          "base_uri": "https://localhost:8080/"
        },
        "outputId": "2325dabd-53fa-42cf-dc8d-075e721fcc32"
      },
      "outputs": [
        {
          "output_type": "stream",
          "name": "stdout",
          "text": [
            "percentages for the years of 2019\n",
            "pos    0.640105\n",
            "neg    0.208406\n",
            "neu    0.151489\n",
            "Name: sentiment_flag, dtype: float64\n",
            "percentages for the years of 2020\n",
            "pos    0.612628\n",
            "neg    0.242321\n",
            "neu    0.145051\n",
            "Name: sentiment_flag, dtype: float64\n",
            "percentages for the years of 2021\n",
            "pos    0.547404\n",
            "neg    0.284424\n",
            "neu    0.168172\n",
            "Name: sentiment_flag, dtype: float64\n",
            "percentages for the years of 2022\n",
            "pos    0.521998\n",
            "neg    0.309156\n",
            "neu    0.168847\n",
            "Name: sentiment_flag, dtype: float64\n",
            "percentages for the years of 2023\n",
            "pos    0.522981\n",
            "neg    0.314286\n",
            "neu    0.162733\n",
            "Name: sentiment_flag, dtype: float64\n"
          ]
        }
      ],
      "source": [
        "desired_years = [2019,2020,2021,2022,2023]\n",
        "\n",
        "for year in desired_years:\n",
        "    print(f\"percentages for the years of {year}\")\n",
        "    df_year = df[df['year']==year]\n",
        "    percentage = df_year['sentiment_flag'].value_counts() / df_year['sentiment_flag'].value_counts().sum()\n",
        "    print(percentage)"
      ]
    }
  ],
  "metadata": {
    "colab": {
      "provenance": []
    },
    "kernelspec": {
      "display_name": "Python 3 (ipykernel)",
      "language": "python",
      "name": "python3"
    },
    "language_info": {
      "codemirror_mode": {
        "name": "ipython",
        "version": 3
      },
      "file_extension": ".py",
      "mimetype": "text/x-python",
      "name": "python",
      "nbconvert_exporter": "python",
      "pygments_lexer": "ipython3",
      "version": "3.9.12"
    }
  },
  "nbformat": 4,
  "nbformat_minor": 0
}